{
 "cells": [
  {
   "cell_type": "markdown",
   "source": [
    "# 1: Getting started with Trixi"
   ],
   "metadata": {}
  },
  {
   "cell_type": "markdown",
   "source": [
    "**Note:** To improve responsiveness via caching, the notebooks are updated only once a week. They are only\n",
    "available for the latest stable release of Trixi at the time of caching."
   ],
   "metadata": {}
  },
  {
   "cell_type": "markdown",
   "source": [
    "This tutorial is intended for beginners in Julia and Trixi.jl.\n",
    "After reading it, you will install Julia and Trixi on your PC and will be able to download files\n",
    "from Trixi github, execute and edit them.\n",
    "**Trixi.jl** is a numerical simulation framework for hyperbolic conservation laws\n",
    "written in [`Julia`](https://julialang.org/).\n",
    "This means that Julia have to be installed on a PC to work with Trixi."
   ],
   "metadata": {}
  },
  {
   "cell_type": "markdown",
   "source": [
    "## Julia installation"
   ],
   "metadata": {}
  },
  {
   "cell_type": "markdown",
   "source": [
    "Trixi works with the current stable Julia release. More information about Julia support can be\n",
    "found in [`README`](https://github.com/trixi-framework/Trixi.jl#installation).\n",
    "The most fully explained installation process can be found in\n",
    "[`Julia installation instruction`](https://julialang.org/downloads/platform/).\n",
    "But you can follow also our short installation instruction."
   ],
   "metadata": {}
  },
  {
   "cell_type": "markdown",
   "source": [
    "### Windows"
   ],
   "metadata": {}
  },
  {
   "cell_type": "markdown",
   "source": [
    "- Download Julia [`installer`](https://julialang.org/downloads/) for Windows. Make sure\n",
    "  that you choose the right version of installer (64-bit or 32-bit) according to your computer.\n",
    "- Open the downloaded installer.\n",
    "- Paste an installation directory path or find it using a file manager (select `Browse`).\n",
    "- Select `Next`.\n",
    "- Check the `Add Julia to PATH` to add Julia to the Environment Variables.\n",
    "  This makes possible to run Julia using Terminal from any directory only typing `julia`.\n",
    "- Select `Next`, then Julia will be insalled."
   ],
   "metadata": {}
  },
  {
   "cell_type": "markdown",
   "source": [
    "Now you can verify, that Julia is installed:\n",
    "- Type `Win+R` on a keyboard.\n",
    "- Enter `cmd` in opened window.\n",
    "- Enter in a terminal `julia`."
   ],
   "metadata": {}
  },
  {
   "cell_type": "markdown",
   "source": [
    "Then Julia will be invoked. To close Julia enter `exit()`."
   ],
   "metadata": {}
  },
  {
   "cell_type": "markdown",
   "source": [
    "### Linux"
   ],
   "metadata": {}
  },
  {
   "cell_type": "markdown",
   "source": [
    "- Open a Terminal and navigate (using `cd`) to the directory, where you want to save Julia.\n",
    "  Or you can open a file manager, find this directory, right-click inside and\n",
    "  choose `Open Terminal Here`.\n",
    "- To install Julia execute the following commands in a Terminal:\n",
    "  ````\n",
    "  wget https://julialang-s3.julialang.org/bin/linux/x64/1.8/julia-1.8.5-linux-x86_64.tar.gz\n",
    "  tar zxvf julia-1.8.5-linux-x86_64.tar.gz\n",
    "  ````\n",
    "  Now you can verify that Julia is installed entering `julia` command in a Terminal."
   ],
   "metadata": {}
  },
  {
   "cell_type": "markdown",
   "source": [
    "Then Julia will be invoked. To close Julia enter `exit()`."
   ],
   "metadata": {}
  },
  {
   "cell_type": "markdown",
   "source": [
    "## Trixi installation"
   ],
   "metadata": {}
  },
  {
   "cell_type": "markdown",
   "source": [
    "Trixi and its related tools are registered Julia packages. So installation of them is\n",
    "running inside Julia. For appropriate work of Trixi you need to install\n",
    "[`Trixi`](https://github.com/trixi-framework/Trixi.jl),\n",
    "[`Trixi2Vtk`](https://github.com/trixi-framework/Trixi2Vtk.jl),\n",
    "[`OrdinaryDiffEq`](https://github.com/SciML/OrdinaryDiffEq.jl) and\n",
    "[`Plots`](https://github.com/JuliaPlots/Plots.jl)."
   ],
   "metadata": {}
  },
  {
   "cell_type": "markdown",
   "source": [
    "- Open a Terminal: type `Win + R` and enter `cmd`.\n",
    "- Invoke Julia executing `julia`.\n",
    "- Execute following commands:\n",
    "  ````\n",
    "  import Pkg\n",
    "  Pkg.add([\"Trixi\", \"Trixi2Vtk\", \"OrdinaryDiffEq\", \"Plots\"])\n",
    "  ````"
   ],
   "metadata": {}
  },
  {
   "cell_type": "markdown",
   "source": [
    "Now you have installed all these\n",
    "packages. [`Trixi2Vtk`](https://github.com/trixi-framework/Trixi2Vtk.jl) is a visualization\n",
    "tool, [`OrdinaryDiffEq`](https://github.com/SciML/OrdinaryDiffEq.jl) provides time integration schemes\n",
    "used by Trixi and [`Plots`](https://github.com/JuliaPlots/Plots.jl) can be used to directly\n",
    "visualize Trixi results from the Julia REPL."
   ],
   "metadata": {}
  },
  {
   "cell_type": "markdown",
   "source": [
    "## Usage"
   ],
   "metadata": {}
  },
  {
   "cell_type": "markdown",
   "source": [
    "### Files execution"
   ],
   "metadata": {}
  },
  {
   "cell_type": "markdown",
   "source": [
    "Trixi has a big set\n",
    "of [`examples`](https://github.com/trixi-framework/Trixi.jl/tree/main/examples), that can be taken\n",
    "as basis for your future investigations."
   ],
   "metadata": {}
  },
  {
   "cell_type": "markdown",
   "source": [
    "Now execute one of them using\n",
    "[`trixi_include(...)`](https://trixi-framework.github.io/Trixi.jl/stable/reference-trixi/#Trixi.trixi_include-Tuple{Module,%20AbstractString})\n",
    "function. `trixi_include(...)` expects\n",
    "a single string argument with a path to a text file containing Julia code.\n",
    "`joinpath(...)` join a path components into a full path.\n",
    "[`examples_dir()`](https://trixi-framework.github.io/Trixi.jl/stable/reference-trixi/#Trixi.examples_dir-Tuple{})\n",
    "returns a path to the\n",
    "[`examples`](https://github.com/trixi-framework/Trixi.jl/tree/main/examples) folder."
   ],
   "metadata": {}
  },
  {
   "cell_type": "markdown",
   "source": [
    "Let's execute a short two-dimensional problem setup. Which approximates the solution of\n",
    "[`compressible Euler equations in 2D for an ideal gas`](https://trixi-framework.github.io/Trixi.jl/stable/reference-trixi/#Trixi.CompressibleEulerEquations2D)\n",
    "with\n",
    "[`weak blast wave initial condition`](https://trixi-framework.github.io/Trixi.jl/stable/reference-trixi/#Trixi.initial_condition_weak_blast_wave-Tuple{Any,%20Any,%20CompressibleEulerEquations2D})"
   ],
   "metadata": {}
  },
  {
   "cell_type": "markdown",
   "source": [
    "Invoke Julia in a Terminal. (Open a Terminal: `Win+R` and enter `cmd`, invoke Julia in terminal:\n",
    "`julia`).\n",
    "And execute following code. (*Remark:* you can ignore all arguments of trixi_include() except\n",
    "path to the file)"
   ],
   "metadata": {}
  },
  {
   "outputs": [],
   "cell_type": "code",
   "source": [
    "using Trixi, OrdinaryDiffEq\n",
    "trixi_include(@__MODULE__,joinpath(examples_dir(), \"tree_2d_dgsem\", \"elixir_euler_ec.jl\"),\n",
    " callbacks=CallbackSet(StepsizeCallback(cfl=1.0)))"
   ],
   "metadata": {},
   "execution_count": null
  },
  {
   "cell_type": "markdown",
   "source": [
    "To observe the result of the computation, we need to use the `Plots` package and the function\n",
    "`plot()`, that builds a graphical representation of the solution. `sol` is a variable defined in\n",
    "executed example and it contains a solution at a final moment of time."
   ],
   "metadata": {}
  },
  {
   "outputs": [],
   "cell_type": "code",
   "source": [
    "using Plots\n",
    "plot(sol)"
   ],
   "metadata": {},
   "execution_count": null
  },
  {
   "cell_type": "markdown",
   "source": [
    "To obtain list of all Trixi elixirs execute\n",
    "[`get_examples()`](https://trixi-framework.github.io/Trixi.jl/stable/reference-trixi/#Trixi.get_examples-Tuple{}).\n",
    "This will return pathes to all examples."
   ],
   "metadata": {}
  },
  {
   "outputs": [],
   "cell_type": "code",
   "source": [
    "get_examples()"
   ],
   "metadata": {},
   "execution_count": null
  },
  {
   "cell_type": "markdown",
   "source": [
    "Editing Trixi examples is the best way to start your first own investigation using Trixi."
   ],
   "metadata": {}
  },
  {
   "cell_type": "markdown",
   "source": [
    "### Files downloading"
   ],
   "metadata": {}
  },
  {
   "cell_type": "markdown",
   "source": [
    "To edit example files you have to download them. Let's have a look how to download\n",
    "`elixir_euler_ec.jl` used in the previous section from the\n",
    "[`Trixi github`](https://github.com/trixi-framework/Trixi.jl)."
   ],
   "metadata": {}
  },
  {
   "cell_type": "markdown",
   "source": [
    "- All examples are located inside\n",
    "  the [`examples`](https://github.com/trixi-framework/Trixi.jl/tree/main/examples) folder.\n",
    "- Navigate to the\n",
    "  file [`elixir_euler_ec.jl`](https://github.com/trixi-framework/Trixi.jl/blob/main/examples/tree_2d_dgsem/elixir_euler_ec.jl).\n",
    "- Click the `Raw` button on the right side of the webpage.\n",
    "- Right-click on any place of the newly opened webpage and choose `Save as`.\n",
    "- Choose a folder and erase `.txt` from the file name. Save the file."
   ],
   "metadata": {}
  },
  {
   "cell_type": "markdown",
   "source": [
    "### Files editing"
   ],
   "metadata": {}
  },
  {
   "cell_type": "markdown",
   "source": [
    "For example, we will change the initial condition for calculations that occur in\n",
    "`elixir_euler_ec.jl`. In this example we consider the compressible Euler equations:\n",
    "$$\n",
    "\\frac{\\partial}{\\partial t}\n",
    "\\begin{pmatrix}\n",
    "\\rho \\\\ \\rho v_1 \\\\ \\rho v_2 \\\\ \\rho e\n",
    "\\end{pmatrix}\n",
    "+\n",
    "\\frac{\\partial}{\\partial x}\n",
    "\\begin{pmatrix}\n",
    "\\rho v_1 \\\\ \\rho v_1^2 + p \\\\ \\rho v_1 v_2 \\\\ (\\rho e +p) v_1\n",
    "\\end{pmatrix}\n",
    "+\n",
    "\\frac{\\partial}{\\partial y}\n",
    "\\begin{pmatrix}\n",
    "\\rho v_2 \\\\ \\rho v_1 v_2 \\\\ \\rho v_2^2 + p \\\\ (\\rho e +p) v_2\n",
    "\\end{pmatrix}\n",
    "=\n",
    "\\begin{pmatrix}\n",
    "0 \\\\ 0 \\\\ 0 \\\\ 0\n",
    "\\end{pmatrix}\n",
    "$$\n",
    "for an ideal gas with ratio of specific heats $\\gamma$\n",
    "in two space dimensions.\n",
    "Here, $\\rho$ is the density, $v_1$, $v_2$ the velocities, $e$ the specific total\n",
    "energy, and\n",
    "$$\n",
    "p = (\\gamma - 1) \\left( \\rho e - \\frac{1}{2} \\rho (v_1^2+v_2^2) \\right)\n",
    "$$\n",
    "the pressure.\n",
    "So this means that an initial condition consists of initial values for $\\rho$, $\\rho v_1$,\n",
    "$\\rho v_2$ and $\\rho e$.\n",
    "One of the common initial condition for compressible Euler equations is density wave.\n",
    "Let's implement it."
   ],
   "metadata": {}
  },
  {
   "cell_type": "markdown",
   "source": [
    "- Open the downloaded file with notepad or any other text editor.\n",
    "- And go to the 9th line with following code:\n",
    "  ````\n",
    "  initial_condition = initial_condition_weak_blast_wave\n",
    "  ````\n",
    "  Here\n",
    "  [`initial_condition_weak_blast_wave`](https://trixi-framework.github.io/Trixi.jl/stable/reference-trixi/#Trixi.initial_condition_weak_blast_wave-Tuple{Any,%20Any,%20CompressibleEulerEquations2D})\n",
    "  is used.\n",
    "- Comment out this line using # symbol:\n",
    "  ````\n",
    "  # initial_condition = initial_condition_weak_blast_wave\n",
    "  ````\n",
    "- Now you can create your own initial conditions. Write following code into a file after the\n",
    "  commented line:"
   ],
   "metadata": {}
  },
  {
   "outputs": [],
   "cell_type": "code",
   "source": [
    "    function initial_condition_density_waves(x,t,equations::CompressibleEulerEquations2D)\n",
    "      v1 = 0.1 # velocity along x-axis\n",
    "      v2 = 0.2 # velocity along y-axis\n",
    "      rho = 1.0 + 0.98 * sin(pi * (sum(x) - t * (v1 + v2))) # density wave profile\n",
    "      p = 20 # pressure\n",
    "      rho_e = p / (equations.gamma - 1) + 1/2 * rho * (v1^2 + v2^2)\n",
    "      return SVector(rho, rho*v1, rho*v2, rho_e)\n",
    "    end\n",
    "    initial_condition=initial_condition_density_waves"
   ],
   "metadata": {},
   "execution_count": null
  },
  {
   "cell_type": "markdown",
   "source": [
    "- Execute following code one more time, but instead of `path_to_file` paste the path to the\n",
    "  `elixir_euler_ec.jl` file from the current folder.\n",
    "  ````\n",
    "  using Trixi\n",
    "  trixi_include(path_to_file)\n",
    "  using Plots\n",
    "  plot(sol)\n",
    "  ````\n",
    "Then you will obtain new solution."
   ],
   "metadata": {}
  },
  {
   "cell_type": "markdown",
   "source": [
    "Feel free to add\n",
    "changes into `initial_condition` to observe different solutions."
   ],
   "metadata": {}
  },
  {
   "cell_type": "markdown",
   "source": [
    "Now you are able to download, edit and execute Trixi code."
   ],
   "metadata": {}
  },
  {
   "cell_type": "markdown",
   "source": [
    "## Next steps"
   ],
   "metadata": {}
  },
  {
   "cell_type": "markdown",
   "source": [
    "If you plan on editing Trixi itself, you can download Trixi locally and run it from\n",
    "the cloned directory:"
   ],
   "metadata": {}
  },
  {
   "cell_type": "markdown",
   "source": [
    "### Cloning Trixi"
   ],
   "metadata": {}
  },
  {
   "cell_type": "markdown",
   "source": [
    "#### Windows"
   ],
   "metadata": {}
  },
  {
   "cell_type": "markdown",
   "source": [
    "If you are using Windows OS, you can clone Trixi directory using a Github Desktop.\n",
    "- If you haven't any github account yet, you have to create it on\n",
    "  the [`Github website`](https://github.com/join).\n",
    "- Download and install [`Github Desktop`](https://desktop.github.com/) and then login into\n",
    "  your account.\n",
    "- Open an installed Github Desktop, type `Ctrl+Shift+O`.\n",
    "- In opened window paste `trixi-framework/Trixi.jl` and choose path to the folder, where you want\n",
    "  to save Trixi. Then click `Clone` and Trixi will be cloned to PC."
   ],
   "metadata": {}
  },
  {
   "cell_type": "markdown",
   "source": [
    "Now you cloned Trixi and only need to add Trixi packages to Julia.\n",
    "- Open a Terminal using `Win+R` and `cmd`. Navigate to the folder with cloned Trixi using `cd`.\n",
    "- Create new directory and start Julia with the `--project` flag set to your local Trixi clone.\n",
    "  ````\n",
    "  mkdir run\n",
    "  cd run\n",
    "  julia --project=.\n",
    "  ````\n",
    "- Run following commands in Julia REPL:\n",
    "  ````\n",
    "  using Pkg; Pkg.develop(PackageSpec(path=\"..\")) # Install local Trixi clone\n",
    "  Pkg.add([\"OrdinaryDiffEq\", \"Trixi2Vtk\", \"Plots\"])  # Install additional packages\n",
    "  ````"
   ],
   "metadata": {}
  },
  {
   "cell_type": "markdown",
   "source": [
    "Now you already installed Trixi from your local clone. Note that if you installed Trixi this way,\n",
    "you always have to start Julia with the `--project` flag set to your `run` directory, e.g.,\n",
    "````\n",
    "julia --project=.\n",
    "````\n",
    "if already inside the `run` directory."
   ],
   "metadata": {}
  },
  {
   "cell_type": "markdown",
   "source": [
    "#### Linux"
   ],
   "metadata": {}
  },
  {
   "cell_type": "markdown",
   "source": [
    "You can clone Trixi to PC executing following commands:\n",
    "````\n",
    "git clone git@github.com:trixi-framework/Trixi.jl.git\n",
    "# In case of an error, use following: git clone https://github.com/trixi-framework/Trixi.jl\n",
    "cd Trixi.jl\n",
    "mkdir run\n",
    "cd run\n",
    "julia --project=. -e 'using Pkg; Pkg.develop(PackageSpec(path=\"..\"))' # Install local Trixi clone\n",
    "julia -e 'using Pkg; Pkg.add([\"OrdinaryDiffEq\", \"Trixi2Vtk\", \"Plots\"])' # Install additional packages'\n",
    "````\n",
    "Note that if you installed Trixi this way,\n",
    "you always have to start Julia with the `--project` flag set to your `run` directory, e.g.,\n",
    "````\n",
    "julia --project=.\n",
    "````\n",
    "if already inside the `run` directory."
   ],
   "metadata": {}
  },
  {
   "cell_type": "markdown",
   "source": [
    "### For further reading"
   ],
   "metadata": {}
  },
  {
   "cell_type": "markdown",
   "source": [
    "To get deeper into Trixi, you may have a look at following tutorials.\n",
    "- [`Introduction to DG methods`](https://trixi-framework.github.io/Trixi.jl/stable/tutorials/scalar_linear_advection_1d/)\n",
    "  is about how to set up a simple way to approximate the solution of a hyperbolic partial\n",
    "  differential equation. It will be esspecialy useful to learn about the\n",
    "  [`Discontinuous Galerkin method`](https://en.wikipedia.org/wiki/Discontinuous_Galerkin_method)\n",
    "  and way of implementation in Trixi. Detailed explanation of code provides a quick start with Trixi.\n",
    "- [`Adding a new scalar conservation law`](https://trixi-framework.github.io/Trixi.jl/stable/tutorials/adding_new_scalar_equations/)\n",
    "  and\n",
    "  [`Adding a non-conservative equation`](https://trixi-framework.github.io/Trixi.jl/stable/tutorials/adding_nonconservative_equation/)\n",
    "  describe how to add a new physics model that's not included in Trixi.jl yet.\n",
    "- [`Callbacks`](https://trixi-framework.github.io/Trixi.jl/stable/callbacks/)\n",
    "  gives an overview of an algorithmic entity called callback that gets passed to the ODE solver\n",
    "  and is called at specific points during execution to perform certain tasks.\n",
    "  It extends Trixi without modifying the internal source code."
   ],
   "metadata": {}
  }
 ],
 "nbformat_minor": 3,
 "metadata": {
  "language_info": {
   "file_extension": ".jl",
   "mimetype": "application/julia",
   "name": "julia",
   "version": "1.8.5"
  },
  "kernelspec": {
   "name": "julia-1.8",
   "display_name": "Julia 1.8.5",
   "language": "julia"
  }
 },
 "nbformat": 4
}
