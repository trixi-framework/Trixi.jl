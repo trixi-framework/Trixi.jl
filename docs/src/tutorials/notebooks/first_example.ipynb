{
 "cells": [
  {
   "cell_type": "markdown",
   "source": [
    "# Tutorial 1: first_example.jl"
   ],
   "metadata": {}
  },
  {
   "cell_type": "markdown",
   "source": [
    "# Rational numbers\n",
    "\n",
    "In julia rational numbers can be constructed with the `//` operator.\n",
    "Lets define two rational numbers, `x` and `y`:"
   ],
   "metadata": {}
  },
  {
   "outputs": [
    {
     "output_type": "execute_result",
     "data": {
      "text/plain": "2//5"
     },
     "metadata": {},
     "execution_count": 1
    }
   ],
   "cell_type": "code",
   "source": [
    "# Define variable x and y\n",
    "x = 1//3\n",
    "y = 2//5"
   ],
   "metadata": {},
   "execution_count": 1
  },
  {
   "cell_type": "markdown",
   "source": [
    "When adding `x` and `y` together we obtain a new rational number:"
   ],
   "metadata": {}
  },
  {
   "outputs": [
    {
     "output_type": "execute_result",
     "data": {
      "text/plain": "11//15"
     },
     "metadata": {},
     "execution_count": 2
    }
   ],
   "cell_type": "code",
   "source": [
    "z = x + y"
   ],
   "metadata": {},
   "execution_count": 2
  },
  {
   "cell_type": "markdown",
   "source": [
    "Test for latex:\n",
    "$$\n",
    "\\left\\lbrace\n",
    "\\begin{aligned}\n",
    "-∇\\cdot\\sigma(u) = 0 \\ &\\text{in} \\ \\Omega,\\\\\n",
    "u = 0 \\ &\\text{on}\\ \\Gamma_{\\rm G},\\\\\n",
    "u_1 = \\delta \\ &\\text{on}\\ \\Gamma_{\\rm B},\\\\\n",
    "\\sigma(u)\\cdot n = 0 \\ &\\text{on}\\  \\Gamma_{\\rm N}.\\\\\n",
    "\\end{aligned}\n",
    "\\right.\n",
    "$$"
   ],
   "metadata": {}
  },
  {
   "cell_type": "markdown",
   "source": [
    "---\n",
    "\n",
    "*This notebook was generated using [Literate.jl](https://github.com/fredrikekre/Literate.jl).*"
   ],
   "metadata": {}
  }
 ],
 "nbformat_minor": 3,
 "metadata": {
  "language_info": {
   "file_extension": ".jl",
   "mimetype": "application/julia",
   "name": "julia",
   "version": "1.6.0"
  },
  "kernelspec": {
   "name": "julia-1.6",
   "display_name": "Julia 1.6.0",
   "language": "julia"
  }
 },
 "nbformat": 4
}
