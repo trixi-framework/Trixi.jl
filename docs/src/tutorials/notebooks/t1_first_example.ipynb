{
 "cells": [
  {
   "cell_type": "markdown",
   "source": [
    "# Tutorial 1: First Example"
   ],
   "metadata": {}
  },
  {
   "cell_type": "markdown",
   "source": [
    "# Rational numbers\n",
    "\n",
    "In julia rational numbers can be constructed with the `//` operator.\n",
    "Lets define two rational numbers, `x` and `y`:"
   ],
   "metadata": {}
  },
  {
   "outputs": [],
   "cell_type": "code",
   "source": [
    "# Define variable x and y\n",
    "x = 1//3\n",
    "y = 2//5"
   ],
   "metadata": {},
   "execution_count": null
  },
  {
   "cell_type": "markdown",
   "source": [
    "When adding `x` and `y` together we obtain a new rational number:"
   ],
   "metadata": {}
  },
  {
   "outputs": [],
   "cell_type": "code",
   "source": [
    "z = x + y\n",
    "x=range(-1, 1, length=50)\n",
    "y=rand(50)\n",
    "using Plots\n",
    "plot(x, y)"
   ],
   "metadata": {},
   "execution_count": null
  },
  {
   "cell_type": "markdown",
   "source": [
    "Test for latex:\n",
    "$$\n",
    "\\left\\lbrace\n",
    "\\begin{aligned}\n",
    "-∇\\cdot\\sigma(u) = 0 \\ &\\text{in} \\ \\Omega,\\\\\n",
    "u = 0 \\ &\\text{on}\\ \\Gamma_{\\rm G},\\\\\n",
    "u_1 = \\delta \\ &\\text{on}\\ \\Gamma_{\\rm B},\\\\\n",
    "\\sigma(u)\\cdot n = 0 \\ &\\text{on}\\  \\Gamma_{\\rm N}.\\\\\n",
    "\\end{aligned}\n",
    "\\right.\n",
    "$$"
   ],
   "metadata": {}
  },
  {
   "cell_type": "markdown",
   "source": [
    "---\n",
    "\n",
    "*This notebook was generated using [Literate.jl](https://github.com/fredrikekre/Literate.jl).*"
   ],
   "metadata": {}
  }
 ],
 "nbformat_minor": 3,
 "metadata": {
  "language_info": {
   "file_extension": ".jl",
   "mimetype": "application/julia",
   "name": "julia",
   "version": "1.6.1"
  },
  "kernelspec": {
   "name": "julia-1.6",
   "display_name": "Julia 1.6.1",
   "language": "julia"
  }
 },
 "nbformat": 4
}
