{
 "cells": [
  {
   "cell_type": "markdown",
   "source": [
    "# **Getting started with Trixi.jl**"
   ],
   "metadata": {}
  },
  {
   "cell_type": "markdown",
   "source": [
    "**Trixi.jl** is a numerical simulation framework for hyporbolic conservation laws\n",
    "written in [`Julia`](https://julialang.org/).\n",
    "That means for working with Trixi, Julia have to be installed on a PC."
   ],
   "metadata": {}
  },
  {
   "cell_type": "markdown",
   "source": [
    "## **1. Julia installation**"
   ],
   "metadata": {}
  },
  {
   "cell_type": "markdown",
   "source": [
    "Trixi works with the current stable release Julia v.1.8.5.\n",
    "The most fully explaind installation process can be found in this\n",
    "[`Julia installation instruction`](https://julialang.org/downloads/platform/).\n",
    "But you can follow also our short installation instruction."
   ],
   "metadata": {}
  },
  {
   "cell_type": "markdown",
   "source": [
    "### **1.1. Windows**"
   ],
   "metadata": {}
  },
  {
   "cell_type": "markdown",
   "source": [
    "- Download Julia [`installer`](https://julialang.org/downloads/) for Windows. Make sure\n",
    "that you chose the right version of installer (64-bit or 32-bit) according to your computer.\n",
    "- Open the downloaded installer.\n",
    "- Paste an installation directory path or find it using a file manager (select *Browse*).\n",
    "- Select *Next*.\n",
    "- Check the *Add Julia to PATH* to add Julia to Environment Variables.\n",
    "  This makes possible to run Julia using Terminal from any directory only typing *julia*.\n",
    "- Select *Next*, then Julia will be insalled."
   ],
   "metadata": {}
  },
  {
   "cell_type": "markdown",
   "source": [
    "Now you can verify, that Julia is installed:\n",
    "- Type *Win+R* on a keyboard.\n",
    "- Enter *cmd* in opened window + *Enter*.\n",
    "- Enter in a terminal *julia* + *Enter*."
   ],
   "metadata": {}
  },
  {
   "cell_type": "markdown",
   "source": [
    "Then Julia will be invoked. To close Julia enter *exit()* + *Enter*."
   ],
   "metadata": {}
  },
  {
   "cell_type": "markdown",
   "source": [
    "### **1.2. Linux**"
   ],
   "metadata": {}
  },
  {
   "cell_type": "markdown",
   "source": [
    "- Open a terminal and navigate (using *cd*) to a directory, where you want to save Julia.\n",
    "Or you can open file manager, find this directory, right-click inside and\n",
    "choose *Open Terminal Here*.\n",
    "- To install Julia execute the following commands in the Terminal:\n",
    "````\n",
    "wget https://julialang-s3.julialang.org/bin/linux/x64/1.8/julia-1.8.5-linux-x86_64.tar.gz\n",
    "tar zxvf julia-1.8.5-linux-x86_64.tar.gz\n",
    "````\n",
    "Now you can verify that Julia is installed entering *julia* command in the Terminal."
   ],
   "metadata": {}
  },
  {
   "cell_type": "markdown",
   "source": [
    "Then Julia will be invoked. To close Julia enter *exit()* + *Enter*."
   ],
   "metadata": {}
  },
  {
   "cell_type": "markdown",
   "source": [
    "## **2. Trixi installation**"
   ],
   "metadata": {}
  },
  {
   "cell_type": "markdown",
   "source": [
    "### **2.1. For Users**"
   ],
   "metadata": {}
  },
  {
   "cell_type": "markdown",
   "source": [
    "If you are planning to use Trixi for work or study without making any changes in Trixi,\n",
    "then you can follow this instruction. If you are planning to develop Trixi, then follow\n",
    "topic **Trixi installation for developers**."
   ],
   "metadata": {}
  },
  {
   "cell_type": "markdown",
   "source": [
    "Trixi and its related tools are registered Julia packages. So installation of them is\n",
    "running inside Julia. To appropriate work of Trixi you need to install\n",
    "[`Trixi`](https://github.com/trixi-framework/Trixi.jl),\n",
    "[`Trixi2Vtk`](https://github.com/trixi-framework/Trixi2Vtk.jl),\n",
    "[`OrdinaryDiffEq`](https://github.com/SciML/OrdinaryDiffEq.jl) and\n",
    "[`Plots`](https://github.com/JuliaPlots/Plots.jl)."
   ],
   "metadata": {}
  },
  {
   "cell_type": "markdown",
   "source": [
    "- Open a Terminal: type *Win + R* and enter *cmd*.\n",
    "- Invoke Julia executing *julia*.\n",
    "- Execute following commands:"
   ],
   "metadata": {}
  },
  {
   "cell_type": "markdown",
   "source": [
    "````\n",
    "import Pkg\n",
    "Pkg.add([\"Trixi\", \"Trixi2Vtk\", \"OrdinaryDiffEq\", \"Plots\"])\n",
    "````"
   ],
   "metadata": {}
  },
  {
   "cell_type": "markdown",
   "source": [
    "Now you have installed all this packages.\n",
    "[`Trixi2Vtk`](https://github.com/trixi-framework/Trixi2Vtk.jl) is a visualization tool,\n",
    "[`OrdinaryDiffEq`](https://github.com/SciML/OrdinaryDiffEq.jl) provides time integration schemes\n",
    "used by Trixi and [`Plots`](https://github.com/JuliaPlots/Plots.jl) can be used to directly\n",
    "visualize Trixi's results from the Julia REPL."
   ],
   "metadata": {}
  },
  {
   "cell_type": "markdown",
   "source": [
    "### **2.2. For Developers**"
   ],
   "metadata": {}
  },
  {
   "cell_type": "markdown",
   "source": [
    "If you plan on editing Trixi itself, you can download Trixi locally and run it from within the\n",
    "cloned directory."
   ],
   "metadata": {}
  },
  {
   "cell_type": "markdown",
   "source": [
    "#### **2.2.1. Windows**"
   ],
   "metadata": {}
  },
  {
   "cell_type": "markdown",
   "source": [
    "If you are using Windows OS, you can clone Trixi directory using a Github Desktop.\n",
    "- If you haven't any github account yet, you have to create it on the\n",
    "[`Github website`](https://github.com/join).\n",
    "- Download and install [`Github Desktop`](https://desktop.github.com/) and then login into\n",
    "your account.\n",
    "- Open an installed Github Desktop, type *Ctrl+Shift+O*.\n",
    "- In opened window paste *trixi-framework/Trixi.jl* and choose path to a folder, where you want\n",
    "to save Trixi. Then click *Clone* and Trixi will be cloned to PC."
   ],
   "metadata": {}
  },
  {
   "cell_type": "markdown",
   "source": [
    "Now you cloned Trixi and only need to add Trixi packages to Julia.\n",
    "- Open Terminal using *Win+R* and *cmd*. Navigate to the folder with cloned Trixi using *cd*.\n",
    "- Start Julia with the ````--project```` flag set to your local Trixi clone, e.g.,\n",
    "````\n",
    " julia --project=@.\n",
    "````\n",
    "- Run following commands in Julia REPL:"
   ],
   "metadata": {}
  },
  {
   "cell_type": "markdown",
   "source": [
    "````\n",
    "import Pkg; Pkg.instantiate()\n",
    "Pkg.add([\"Trixi2Vtk\", \"Plots\", \"OrdinaryDiffEq\"])\n",
    "````"
   ],
   "metadata": {}
  },
  {
   "cell_type": "markdown",
   "source": [
    "Now you already installed Trixi from your local clone. Note that if you installed Trixi this way,\n",
    "you always have to start Julia with the ````--project```` flag set to your local Trixi clone, e.g.,\n",
    "````\n",
    "julia --project=@.\n",
    "````"
   ],
   "metadata": {}
  },
  {
   "cell_type": "markdown",
   "source": [
    "#### **2.2.2. Linux**"
   ],
   "metadata": {}
  },
  {
   "cell_type": "markdown",
   "source": [
    "You can download Trixi locally and run it from within the cloned directory this way:\n",
    "````\n",
    "git clone git@github.com:trixi-framework/Trixi.jl.git\n",
    "cd Trixi.jl\n",
    "julia --project=@. -e 'import Pkg; Pkg.instantiate()'\n",
    "julia -e 'import Pkg; Pkg.add([\"Trixi2Vtk\", \"Plots\"])'\n",
    "julia -e 'import Pkg; Pkg.add(\"OrdinaryDiffEq\")'\n",
    "````\n",
    "Note that if you installed Trixi this way,\n",
    "you always have to start Julia with the ````--project```` flag set to your local Trixi clone, e.g.,\n",
    "````\n",
    "julia --project=@.\n",
    "````"
   ],
   "metadata": {}
  },
  {
   "cell_type": "markdown",
   "source": [
    "## **3. Usage**"
   ],
   "metadata": {}
  },
  {
   "cell_type": "markdown",
   "source": [
    "### **3.1. Files execution**"
   ],
   "metadata": {}
  },
  {
   "cell_type": "markdown",
   "source": [
    "Trixi has a big set of\n",
    "[`examples`](https://github.com/trixi-framework/Trixi.jl/tree/main/examples), that can be taken\n",
    "as basis for your future investigations."
   ],
   "metadata": {}
  },
  {
   "cell_type": "markdown",
   "source": [
    "Now execute one of them using *include(...)* function. *include(...)* expects\n",
    "a single string argument with the path to a text file containing Julia code.\n",
    "*default_example_unstructured()* returns the path to an example\n",
    "elixir with a short, two-dimensional problem setup."
   ],
   "metadata": {}
  },
  {
   "cell_type": "markdown",
   "source": [
    "Invoke Julia in terminal. (Open Terminal: *Win+R* and enter *cmd*, invoke Julia in terminal:\n",
    "*julia*).\n",
    "And execute following code."
   ],
   "metadata": {}
  },
  {
   "outputs": [],
   "cell_type": "code",
   "source": [
    "using Trixi\n",
    "include(default_example_unstructured())"
   ],
   "metadata": {},
   "execution_count": null
  },
  {
   "cell_type": "markdown",
   "source": [
    "To observe result of computation, we need to use *Plots* package and function *plot()*, that\n",
    "builds a graphical representation of the solution. *sol* is a variable defined in\n",
    "default_example_unstructured() and it contains solution of the executed example."
   ],
   "metadata": {}
  },
  {
   "outputs": [],
   "cell_type": "code",
   "source": [
    "using Plots\n",
    "plot(sol)"
   ],
   "metadata": {},
   "execution_count": null
  },
  {
   "cell_type": "markdown",
   "source": [
    "To obtain list of all example elixirs packaged with Trixi execute *get_examples()*. This will\n",
    "return pathes to all examples."
   ],
   "metadata": {}
  },
  {
   "outputs": [],
   "cell_type": "code",
   "source": [
    "get_examples()"
   ],
   "metadata": {},
   "execution_count": null
  },
  {
   "cell_type": "markdown",
   "source": [
    "Editing the Trixi examples are the best way to start your first own investigation using Trixi."
   ],
   "metadata": {}
  },
  {
   "cell_type": "markdown",
   "source": [
    "### **3.2. Files downloading for users**"
   ],
   "metadata": {}
  },
  {
   "cell_type": "markdown",
   "source": [
    "To edit example files you have to download them. Let's have a look how to download\n",
    "default_example_unstructured file from [`Trixi github`](https://github.com/trixi-framework/Trixi.jl)."
   ],
   "metadata": {}
  },
  {
   "cell_type": "markdown",
   "source": [
    "- All examples are located inside the\n",
    "[`example`](https://github.com/trixi-framework/Trixi.jl/tree/main/examples) folder.\n",
    "- Navigate to the file\n",
    "[`elixir_advection_basic.jl`](https://github.com/trixi-framework/Trixi.jl/blob/main/examples/unstructured_2d_dgsem/elixir_advection_basic.jl).\n",
    "- Click the *Raw* button on right side of the webpage.\n",
    "- On any place of newly opened webpage right-click and choose *Save as*.\n",
    "- Choose folder and erase *.txt* from the file name. Save the file."
   ],
   "metadata": {}
  },
  {
   "cell_type": "markdown",
   "source": [
    "### **3.3. Files edditing**"
   ],
   "metadata": {}
  },
  {
   "cell_type": "markdown",
   "source": [
    "Users have already downloaded file to change. Developers have this file inside cloned Trixi\n",
    "directory."
   ],
   "metadata": {}
  },
  {
   "cell_type": "markdown",
   "source": [
    "For example, we will change the initial conditions for calculations that occur in the default\n",
    "example."
   ],
   "metadata": {}
  },
  {
   "cell_type": "markdown",
   "source": [
    "- **Users** open the downloaded file.\n",
    "- **Developers** open the file located at the following path:\n",
    "````\n",
    "\\Trixi_cloned\\examples\\unstructured_2d_dgsem\\elixir_advection_basic.jl\n",
    "````\n",
    "- And go to the 30th line with following code:\n",
    "````\n",
    "semi = SemidiscretizationHyperbolic(mesh, equations, initial_condition_convergence_test, solver)\n",
    "````\n",
    "Here default initial condition function ````initial_condition_convergence_test```` is used.\n",
    "- Comment out this line using # symbol:\n",
    "````\n",
    "# semi = SemidiscretizationHyperbolic(mesh, equations, initial_condition_convergence_test, solver)\n",
    "````\n",
    "- Now you can create your own initial conditions. For example you can use sinus wave function.\n",
    "Write following code into a file after commented out line:\n",
    "````\n",
    "initial_condition_sine_wave(x, t, equations) =\n",
    "SVector(1.0 + 0.5 * cos(2*pi * sum(x - equations.advection_velocity * t)))\n",
    "semi = SemidiscretizationHyperbolic(mesh, equations, initial_condition_sine_wave, solver)\n",
    "````\n",
    "- Execute following code one more time, but instead of *path_to_file* paste the path to the\n",
    "elixir_advection_basic.jl file from current folder, for example *\"./elixir_advection_basic.jl\"*.\n",
    "````\n",
    "using Trixi\n",
    "trixi_include(path_to_file)\n",
    "using Plots\n",
    "plot(sol)\n",
    "````\n",
    "You will obtain new plot with shifted and with twice the number of lines. Feel free to add\n",
    "changes into ````initial_condition_sine_wave```` to observe different solutions."
   ],
   "metadata": {}
  },
  {
   "cell_type": "markdown",
   "source": [
    "Now you are able to download, edit and execute Trixi code."
   ],
   "metadata": {}
  }
 ],
 "nbformat_minor": 3,
 "metadata": {
  "language_info": {
   "file_extension": ".jl",
   "mimetype": "application/julia",
   "name": "julia",
   "version": "1.8.5"
  },
  "kernelspec": {
   "name": "julia-1.8",
   "display_name": "Julia 1.8.5",
   "language": "julia"
  }
 },
 "nbformat": 4
}
