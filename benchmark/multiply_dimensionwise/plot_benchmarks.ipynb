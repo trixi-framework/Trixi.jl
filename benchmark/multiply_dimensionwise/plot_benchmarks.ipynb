{
 "cells": [
  {
   "cell_type": "markdown",
   "metadata": {},
   "source": [
    "# Compare sequential vs. squeezed implementations of `multiply_dimensionwise`, 2D\n",
    "\n",
    "At first, you need to run the benchmarks by executing\n",
    "```\n",
    "julia -e benchmark_multiply_dimensionwise.jl\n",
    "```\n",
    "Then, you can generate the plots by running this notebook."
   ]
  },
  {
   "cell_type": "code",
   "execution_count": null,
   "metadata": {},
   "outputs": [],
   "source": [
    "using Printf\n",
    "\n",
    "using BSON\n",
    "using PyCall\n",
    "colors = pyimport(\"matplotlib.colors\")\n",
    "import PyPlot; plt = PyPlot\n",
    "\n",
    "\n",
    "function plot_benchmarks_helper(n_vars_list, n_nodes_in_list, title, values, colorbar_label)\n",
    "  x = ones(length(n_nodes_in_list)) .* n_vars_list'\n",
    "  y = n_nodes_in_list .* ones(length(n_vars_list))'\n",
    "\n",
    "  exponent = max(\n",
    "    maximum(abs, round.(Int, log10.(extrema(values)), RoundUp)),\n",
    "    maximum(abs, round.(Int, log10.(extrema(values)), RoundDown)))\n",
    "  fig, ax = plt.subplots(1, 1)\n",
    "  plt.imshow(transpose(values),\n",
    "      origin=\"lower\", extent=(n_vars_list[1]-0.5, n_vars_list[end]+0.5,\n",
    "          n_nodes_in_list[1]-0.5, n_nodes_in_list[end]+0.5),\n",
    "      cmap=\"seismic\", norm=colors.LogNorm(vmin=10.0^(-exponent), vmax=10.0^(+exponent)),\n",
    "  #     norm=colors.LogNorm()\n",
    "  )\n",
    "  plt.locator_params(axis=\"x\", nbins=length(n_vars_list))\n",
    "  plt.locator_params(axis=\"y\", nbins=length(n_nodes_in_list))\n",
    "  plt.colorbar(label=colorbar_label)\n",
    "  plt.axis(\"Image\")\n",
    "  plt.xlabel(\"n_variables_total\")\n",
    "  plt.ylabel(\"n_nodes_in\")\n",
    "  plt.title(title * @sprintf(\"\\nextrema: (%.1e, %.1e)\", extrema(values)...))\n",
    "  fig\n",
    "end\n",
    "\n",
    "function plot_benchmarks(datafile, title=datafile)\n",
    "  BSON.@load datafile n_vars_list n_nodes_in_list sequential_dynamic sequential_static sequential_nexpr sequential_dynamic_prealloc sequential_static_prealloc squeezed_dynamic squeezed_static\n",
    "#   @assert minimum(sequential_static ./ sequential_dynamic) >= 1\n",
    "#   @assert minimum(sequential_static_prealloc ./ sequential_dynamic_prealloc) >= 1\n",
    "  @assert minimum(sequential_dynamic_prealloc ./ sequential_dynamic_prealloc) <= 1\n",
    "\n",
    "  values = sequential_static ./ sequential_dynamic; colorbar_label = \"sequential_static ./ sequential_dynamic\"\n",
    "  fig = plot_benchmarks_helper(n_vars_list, n_nodes_in_list, title, values, colorbar_label)\n",
    "  values = squeezed_static ./ squeezed_dynamic; colorbar_label = \"squeezed_static ./ squeezed_dynamic\"\n",
    "  fig = plot_benchmarks_helper(n_vars_list, n_nodes_in_list, title, values, colorbar_label)\n",
    "\n",
    "  values = squeezed_dynamic ./ sequential_dynamic; colorbar_label = \"squeezed_dynamic ./ sequential_dynamic\"\n",
    "  fig = plot_benchmarks_helper(n_vars_list, n_nodes_in_list, title, values, colorbar_label)\n",
    "  values = squeezed_static ./ sequential_dynamic; colorbar_label = \"squeezed_static ./ sequential_dynamic\"\n",
    "  fig = plot_benchmarks_helper(n_vars_list, n_nodes_in_list, title, values, colorbar_label)\n",
    "\n",
    "  values = sequential_dynamic_prealloc ./ sequential_dynamic; colorbar_label = \"sequential_dynamic_prealloc ./ sequential_dynamic\"\n",
    "  fig = plot_benchmarks_helper(n_vars_list, n_nodes_in_list, title, values, colorbar_label)\n",
    "\n",
    "  values = squeezed_dynamic ./ sequential_dynamic_prealloc; colorbar_label = \"squeezed_dynamic ./ sequential_dynamic_prealloc\"\n",
    "  fig = plot_benchmarks_helper(n_vars_list, n_nodes_in_list, title, values, colorbar_label)\n",
    "  values = squeezed_static ./ sequential_dynamic_prealloc; colorbar_label = \"squeezed_static ./ sequential_dynamic_prealloc\"\n",
    "  fig = plot_benchmarks_helper(n_vars_list, n_nodes_in_list, title, values, colorbar_label)\n",
    "\n",
    "  return nothing\n",
    "end"
   ]
  },
  {
   "cell_type": "code",
   "execution_count": null,
   "metadata": {},
   "outputs": [],
   "source": [
    "arch = \"i7-8700K_\"\n",
    "# arch = \"i7-6850K_\"\n",
    "# arch = \"XeonGold6230_\"\n",
    "plot_benchmarks(arch * \"2D_nVarTotal_nNodesIn.bson\", \"n_nodes_out = n_nodes_in\")"
   ]
  },
  {
   "cell_type": "code",
   "execution_count": null,
   "metadata": {},
   "outputs": [],
   "source": [
    "plot_benchmarks(arch * \"2D_nVarTotal_2nNodesIn.bson\", \"n_nodes_out = 2*n_nodes_in\")"
   ]
  },
  {
   "cell_type": "code",
   "execution_count": null,
   "metadata": {},
   "outputs": [],
   "source": [
    "plot_benchmarks(arch * \"3D_nVarTotal_nNodesIn.bson\", \"n_nodes_out = n_nodes_in\")"
   ]
  },
  {
   "cell_type": "code",
   "execution_count": null,
   "metadata": {},
   "outputs": [],
   "source": [
    "plot_benchmarks(arch * \"3D_nVarTotal_2nNodesIn.bson\", \"n_nodes_out = 2*n_nodes_in\")"
   ]
  },
  {
   "cell_type": "code",
   "execution_count": null,
   "metadata": {},
   "outputs": [],
   "source": []
  },
  {
   "cell_type": "markdown",
   "metadata": {},
   "source": [
    "# WIP: Development. DO NOT RUN THE NEXT CELL"
   ]
  },
  {
   "cell_type": "raw",
   "metadata": {},
   "source": [
    "BSON.@load \"2D_nVarTotal_nNodesIn_i7-8700K.bson\" n_variables_total_list n_nodes_in_list sequential sequential_prealloc squeezed\n",
    "title = \"n_variables_interp=n_variables_total\\nn_nodes_out=n_nodes_in\"\n",
    "values = squeezed ./ sequential\n",
    "\n",
    "x = ones(length(n_nodes_in_list)) .* n_variables_total_list'\n",
    "y = n_nodes_in_list .* ones(length(n_variables_total_list))'\n",
    "\n",
    "exponent = maximum(abs, round.(Int, log10.(extrema(values))))\n",
    "plt.imshow(transpose(values), \n",
    "    origin=\"lower\", extent=(n_variables_total_list[1]-0.5, n_variables_total_list[end]+0.5,\n",
    "        n_nodes_in_list[1]-0.5, n_nodes_in_list[end]+0.5), \n",
    "#     cmap=\"seismic\", norm=colors.LogNorm(vmin=10.0^(-exponent), vmax=10.0^(+exponent)),\n",
    "#     norm=colors.LogNorm()\n",
    ")\n",
    "plt.locator_params(axis=\"x\", nbins=length(n_variables_total_list))\n",
    "plt.locator_params(axis=\"y\", nbins=length(n_nodes_in_list))\n",
    "plt.colorbar(label=\"run time in ns (mean)\")\n",
    "plt.axis(\"Image\")\n",
    "plt.xlabel(\"n_variables_total\")\n",
    "plt.ylabel(\"n_nodes_in\")\n",
    "plt.title(title)"
   ]
  },
  {
   "cell_type": "code",
   "execution_count": null,
   "metadata": {},
   "outputs": [],
   "source": []
  }
 ],
 "metadata": {
  "kernelspec": {
   "display_name": "Julia 1.5.1",
   "language": "julia",
   "name": "julia-1.5"
  },
  "language_info": {
   "file_extension": ".jl",
   "mimetype": "application/julia",
   "name": "julia",
   "version": "1.5.1"
  }
 },
 "nbformat": 4,
 "nbformat_minor": 4
}
